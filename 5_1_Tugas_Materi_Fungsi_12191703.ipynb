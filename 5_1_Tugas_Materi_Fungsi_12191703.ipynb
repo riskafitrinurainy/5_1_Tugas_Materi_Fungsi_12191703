{
 "cells": [
  {
   "cell_type": "code",
   "execution_count": null,
   "metadata": {
    "id": "22s8pI85u5_J"
   },
   "outputs": [],
   "source": []
  },
  {
   "cell_type": "markdown",
   "metadata": {
    "id": "fPMZcyuxvINI"
   },
   "source": [
    "**Soal 5.1.1**\n",
    "\n",
    "Berikut ini adalah potongan kode implementasi fungsi *luas_limas_segi_empat()*\n",
    "``` javascript\n",
    "print(\"Luas : %d\" % luas_limas_segi_empat(Alas_limas, Tinggi_limas))​\n",
    "```\n",
    "Lengkapilah kode tersebut dengan merancang sebuah fungsi agar bisa diimplementasikan sesuai dengan statment potongan kode diatas.\n",
    "dengan mengetikan pada code cell di bawah ini pada editor."
   ]
  },
  {
   "cell_type": "code",
   "execution_count": 11,
   "metadata": {
    "id": "WMeeaGjuxQfL"
   },
   "outputs": [
    {
     "name": "stdout",
     "output_type": "stream",
     "text": [
      "Volume limas segi empat jika luas alasnya adalah 24cm x 12cm dan tingginya 9cm adalah 864 cm3.\n"
     ]
    }
   ],
   "source": [
    "# Soal 5.1.1\n",
    "\n",
    "def volume_limas_segi_empat(alas_limas, tinggi_limas):\n",
    "    #rumus V = 1/3 × luas alas limas × tinggi limas\n",
    "    volume = 1/3 * alas_limas * tinggi_limas\n",
    "    return volume\n",
    "\n",
    "luas_alas_limas = 24*12 # 288 cm2\n",
    "tinggi_limas = 9 # cm\n",
    "print(\"Volume limas segi empat jika luas alasnya adalah 24cm x 12cm (288cm2) dan tingginya 9cm adalah %d cm3.\" % volume_limas_segi_empat(luas_alas_limas,tinggi_limas))"
   ]
  },
  {
   "cell_type": "code",
   "execution_count": null,
   "metadata": {},
   "outputs": [],
   "source": []
  }
 ],
 "metadata": {
  "colab": {
   "collapsed_sections": [],
   "name": "5.1_Tugas_Materi_Fungsi.ipynb",
   "provenance": []
  },
  "kernelspec": {
   "display_name": "Python 3",
   "language": "python",
   "name": "python3"
  },
  "language_info": {
   "codemirror_mode": {
    "name": "ipython",
    "version": 3
   },
   "file_extension": ".py",
   "mimetype": "text/x-python",
   "name": "python",
   "nbconvert_exporter": "python",
   "pygments_lexer": "ipython3",
   "version": "3.9.0"
  }
 },
 "nbformat": 4,
 "nbformat_minor": 1
}
