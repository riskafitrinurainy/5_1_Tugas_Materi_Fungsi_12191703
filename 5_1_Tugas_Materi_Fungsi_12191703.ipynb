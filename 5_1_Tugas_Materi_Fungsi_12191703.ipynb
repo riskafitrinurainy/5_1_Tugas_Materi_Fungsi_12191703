{
 "cells": [
  {
   "cell_type": "code",
   "execution_count": null,
   "metadata": {
    "id": "22s8pI85u5_J"
   },
   "outputs": [],
   "source": []
  },
  {
   "cell_type": "markdown",
   "metadata": {
    "id": "fPMZcyuxvINI"
   },
   "source": [
    "**Soal 5.1.1**\n",
    "\n",
    "Berikut ini adalah potongan kode implementasi fungsi *luas_limas_segi_empat()*\n",
    "``` javascript\n",
    "print(\"Luas : %d\" % luas_limas_segi_empat(Alas_limas, Tinggi_limas))​\n",
    "```\n",
    "Lengkapilah kode tersebut dengan merancang sebuah fungsi agar bisa diimplementasikan sesuai dengan statment potongan kode diatas.\n",
    "dengan mengetikan pada code cell di bawah ini pada editor."
   ]
  },
  {
   "cell_type": "code",
   "execution_count": 1,
   "metadata": {
    "id": "WMeeaGjuxQfL"
   },
   "outputs": [
    {
     "name": "stdout",
     "output_type": "stream",
     "text": [
      "Luas limas segi empat adalah : 12.000000\n"
     ]
    }
   ],
   "source": [
    "# Soal 4.1.1\n",
    "def luas_limas_segi_empat(Alas_limas, Tinggi_limas):\n",
    "    luas = (Alas_limas * Tinggi_limas)/2\n",
    "    print(\"Luas limas segi empat adalah : %f\" % luas)\n",
    "\n",
    "luas_limas_segi_empat(4,6)"
   ]
  }
 ],
 "metadata": {
  "colab": {
   "collapsed_sections": [],
   "name": "5.1_Tugas_Materi_Fungsi.ipynb",
   "provenance": []
  },
  "kernelspec": {
   "display_name": "Python 3",
   "language": "python",
   "name": "python3"
  },
  "language_info": {
   "codemirror_mode": {
    "name": "ipython",
    "version": 3
   },
   "file_extension": ".py",
   "mimetype": "text/x-python",
   "name": "python",
   "nbconvert_exporter": "python",
   "pygments_lexer": "ipython3",
   "version": "3.9.0"
  }
 },
 "nbformat": 4,
 "nbformat_minor": 1
}
